{
 "cells": [
  {
   "cell_type": "code",
   "execution_count": 1,
   "metadata": {},
   "outputs": [],
   "source": [
    "import tensorflow as tf\n",
    "import numpy as np\n",
    "tf.compat.v1.enable_eager_execution()"
   ]
  },
  {
   "cell_type": "code",
   "execution_count": 11,
   "metadata": {},
   "outputs": [
    {
     "data": {
      "text/plain": [
       "<tf.Tensor: id=101, shape=(7,), dtype=float32, numpy=\n",
       "array([0.18546939, 0.9113207 , 0.11926949, 0.35529637, 0.42297232,\n",
       "       0.7419131 , 0.9935498 ], dtype=float32)>"
      ]
     },
     "execution_count": 11,
     "metadata": {},
     "output_type": "execute_result"
    }
   ],
   "source": [
    "cdf=tf.convert_to_tensor(np.array([0,0.1,0.2,0.5,0.8,0.9,1.0]),dtype=tf.float32)\n",
    "u=tf.random.uniform([7])\n",
    "u"
   ]
  },
  {
   "cell_type": "code",
   "execution_count": 12,
   "metadata": {},
   "outputs": [
    {
     "data": {
      "text/plain": [
       "<tf.Tensor: id=120, shape=(7,), dtype=int32, numpy=array([2, 6, 2, 3, 3, 4, 6])>"
      ]
     },
     "execution_count": 12,
     "metadata": {},
     "output_type": "execute_result"
    }
   ],
   "source": [
    "inds = tf.searchsorted(cdf, u, side='right')\n",
    "inds"
   ]
  },
  {
   "cell_type": "code",
   "execution_count": 13,
   "metadata": {},
   "outputs": [
    {
     "data": {
      "text/plain": [
       "<tf.Tensor: id=124, shape=(7,), dtype=int32, numpy=array([1, 5, 1, 2, 2, 3, 5])>"
      ]
     },
     "execution_count": 13,
     "metadata": {},
     "output_type": "execute_result"
    }
   ],
   "source": [
    "below = tf.maximum(0, inds-1)\n",
    "below"
   ]
  },
  {
   "cell_type": "code",
   "execution_count": 14,
   "metadata": {},
   "outputs": [
    {
     "data": {
      "text/plain": [
       "<tf.Tensor: id=126, shape=(7,), dtype=int32, numpy=array([2, 6, 2, 3, 3, 4, 6])>"
      ]
     },
     "execution_count": 14,
     "metadata": {},
     "output_type": "execute_result"
    }
   ],
   "source": [
    "above = tf.minimum(cdf.shape[-1]-1, inds)\n",
    "above"
   ]
  },
  {
   "cell_type": "code",
   "execution_count": 15,
   "metadata": {},
   "outputs": [
    {
     "data": {
      "text/plain": [
       "<tf.Tensor: id=127, shape=(7, 2), dtype=int32, numpy=\n",
       "array([[1, 2],\n",
       "       [5, 6],\n",
       "       [1, 2],\n",
       "       [2, 3],\n",
       "       [2, 3],\n",
       "       [3, 4],\n",
       "       [5, 6]])>"
      ]
     },
     "execution_count": 15,
     "metadata": {},
     "output_type": "execute_result"
    }
   ],
   "source": [
    "inds_g = tf.stack([below, above], -1)\n",
    "inds_g"
   ]
  },
  {
   "cell_type": "code",
   "execution_count": 17,
   "metadata": {},
   "outputs": [
    {
     "data": {
      "text/plain": [
       "<tf.Tensor: id=131, shape=(7, 2), dtype=float32, numpy=\n",
       "array([[0.1, 0.2],\n",
       "       [0.9, 1. ],\n",
       "       [0.1, 0.2],\n",
       "       [0.2, 0.5],\n",
       "       [0.2, 0.5],\n",
       "       [0.5, 0.8],\n",
       "       [0.9, 1. ]], dtype=float32)>"
      ]
     },
     "execution_count": 17,
     "metadata": {},
     "output_type": "execute_result"
    }
   ],
   "source": [
    "cdf_g = tf.gather(cdf, inds_g, axis=-1, batch_dims=len(inds_g.shape)-2)\n",
    "cdf_g"
   ]
  },
  {
   "cell_type": "code",
   "execution_count": 19,
   "metadata": {},
   "outputs": [
    {
     "data": {
      "text/plain": [
       "<tf.Tensor: id=138, shape=(7,), dtype=float32, numpy=\n",
       "array([0.        , 0.16666667, 0.33333334, 0.5       , 0.6666667 ,\n",
       "       0.8333334 , 1.        ], dtype=float32)>"
      ]
     },
     "execution_count": 19,
     "metadata": {},
     "output_type": "execute_result"
    }
   ],
   "source": [
    "bins=tf.linspace(0.0,1.0,7)\n",
    "bins"
   ]
  },
  {
   "cell_type": "code",
   "execution_count": 20,
   "metadata": {},
   "outputs": [
    {
     "data": {
      "text/plain": [
       "<tf.Tensor: id=140, shape=(7, 2), dtype=float32, numpy=\n",
       "array([[0.16666667, 0.33333334],\n",
       "       [0.8333334 , 1.        ],\n",
       "       [0.16666667, 0.33333334],\n",
       "       [0.33333334, 0.5       ],\n",
       "       [0.33333334, 0.5       ],\n",
       "       [0.5       , 0.6666667 ],\n",
       "       [0.8333334 , 1.        ]], dtype=float32)>"
      ]
     },
     "execution_count": 20,
     "metadata": {},
     "output_type": "execute_result"
    }
   ],
   "source": [
    "bins_g = tf.gather(bins, inds_g, axis=-1, batch_dims=len(inds_g.shape)-2)\n",
    "bins_g"
   ]
  },
  {
   "cell_type": "code",
   "execution_count": 21,
   "metadata": {},
   "outputs": [
    {
     "data": {
      "text/plain": [
       "<tf.Tensor: id=149, shape=(7,), dtype=float32, numpy=\n",
       "array([0.1       , 0.10000002, 0.1       , 0.3       , 0.3       ,\n",
       "       0.3       , 0.10000002], dtype=float32)>"
      ]
     },
     "execution_count": 21,
     "metadata": {},
     "output_type": "execute_result"
    }
   ],
   "source": [
    "denom = (cdf_g[..., 1]-cdf_g[..., 0])\n",
    "denom"
   ]
  },
  {
   "cell_type": "code",
   "execution_count": 22,
   "metadata": {},
   "outputs": [
    {
     "name": "stdout",
     "output_type": "stream",
     "text": [
      "WARNING:tensorflow:From C:\\Users\\Franklin\\AppData\\Local\\Temp\\ipykernel_21200\\483891900.py:1: where (from tensorflow.python.ops.array_ops) is deprecated and will be removed in a future version.\n",
      "Instructions for updating:\n",
      "Use tf.where in 2.0, which has the same broadcast rule as np.where\n"
     ]
    },
    {
     "data": {
      "text/plain": [
       "<tf.Tensor: id=155, shape=(7,), dtype=float32, numpy=\n",
       "array([0.1       , 0.10000002, 0.1       , 0.3       , 0.3       ,\n",
       "       0.3       , 0.10000002], dtype=float32)>"
      ]
     },
     "execution_count": 22,
     "metadata": {},
     "output_type": "execute_result"
    }
   ],
   "source": [
    "denom = tf.where(denom < 1e-5, tf.ones_like(denom), denom)\n",
    "denom"
   ]
  },
  {
   "cell_type": "code",
   "execution_count": 23,
   "metadata": {},
   "outputs": [
    {
     "data": {
      "text/plain": [
       "<tf.Tensor: id=161, shape=(7,), dtype=float32, numpy=\n",
       "array([0.8546939 , 0.11320707, 0.19269489, 0.51765454, 0.7432411 ,\n",
       "       0.80637693, 0.93549824], dtype=float32)>"
      ]
     },
     "execution_count": 23,
     "metadata": {},
     "output_type": "execute_result"
    }
   ],
   "source": [
    "t = (u-cdf_g[..., 0])/denom\n",
    "t"
   ]
  },
  {
   "cell_type": "code",
   "execution_count": 24,
   "metadata": {},
   "outputs": [
    {
     "data": {
      "text/plain": [
       "<tf.Tensor: id=176, shape=(7,), dtype=float32, numpy=\n",
       "array([0.30911565, 0.8522012 , 0.19878249, 0.4196091 , 0.45720685,\n",
       "       0.6343962 , 0.9892497 ], dtype=float32)>"
      ]
     },
     "execution_count": 24,
     "metadata": {},
     "output_type": "execute_result"
    }
   ],
   "source": [
    "samples = bins_g[..., 0] + t * (bins_g[..., 1]-bins_g[..., 0])\n",
    "samples"
   ]
  },
  {
   "cell_type": "markdown",
   "metadata": {},
   "source": [
    "New"
   ]
  },
  {
   "cell_type": "code",
   "execution_count": 24,
   "metadata": {},
   "outputs": [
    {
     "data": {
      "text/plain": [
       "<tf.Tensor: id=155, shape=(2, 10), dtype=float32, numpy=\n",
       "array([[0.       , 0.       , 0.       , 0.       , 0.       , 0.5555556,\n",
       "        0.6666667, 0.7777778, 0.8888889, 1.       ],\n",
       "       [0.       , 0.       , 0.       , 0.       , 0.       , 0.5555556,\n",
       "        0.6666667, 0.7777778, 0.8888889, 1.       ]], dtype=float32)>"
      ]
     },
     "execution_count": 24,
     "metadata": {},
     "output_type": "execute_result"
    }
   ],
   "source": [
    "import tensorflow as tf\n",
    "a=tf.linspace(0.,1.,10)\n",
    "a=tf.stack([a,a],0)\n",
    "tf.where(a<0.5,tf.zeros_like(a),a)\n",
    "\n"
   ]
  }
 ],
 "metadata": {
  "kernelspec": {
   "display_name": "Python 3.7.12 ('directml')",
   "language": "python",
   "name": "python3"
  },
  "language_info": {
   "codemirror_mode": {
    "name": "ipython",
    "version": 3
   },
   "file_extension": ".py",
   "mimetype": "text/x-python",
   "name": "python",
   "nbconvert_exporter": "python",
   "pygments_lexer": "ipython3",
   "version": "3.7.12"
  },
  "orig_nbformat": 4,
  "vscode": {
   "interpreter": {
    "hash": "7bfed9d9e776383aa8b6763a47ef55e3f9ba08a7c892170a07d28e4d0aee3485"
   }
  }
 },
 "nbformat": 4,
 "nbformat_minor": 2
}
